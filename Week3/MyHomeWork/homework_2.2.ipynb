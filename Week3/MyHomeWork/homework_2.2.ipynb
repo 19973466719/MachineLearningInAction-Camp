{
 "cells": [
  {
   "cell_type": "markdown",
   "metadata": {
    "collapsed": true
   },
   "source": [
    "# 作业2.2 \n",
    "由表中的训练数据学习一个朴素贝叶斯分类器，并确定x=(2,S)的类标记y,表中X1和X2为特征。"
   ]
  },
  {
   "cell_type": "code",
   "execution_count": 1,
   "metadata": {},
   "outputs": [],
   "source": [
    "import numpy as np"
   ]
  },
  {
   "cell_type": "markdown",
   "metadata": {},
   "source": [
    "## 准备数据：从表中数据构建向量"
   ]
  },
  {
   "cell_type": "code",
   "execution_count": 2,
   "metadata": {},
   "outputs": [],
   "source": [
    "def loadDataSet():\n",
    "    X1 = [1, 1, 1, 1, 1, 2, 2, 2, 2, 2, 2, 3, 3, 3, 3, 3]\n",
    "    X2 = ['S', 'L', 'M', 'M', 'S', 'L', 'S', 'S', \n",
    "          'L', 'L', 'M', 'M', 'L', 'S', 'M', 'M']\n",
    "    Y = [-1, 1, 1, -1, -1, 1, 1, -1,\n",
    "         1, -1, 1, 1, 1, 1, -1, 1]\n",
    "    return np.array(X1), np.array(X2), np.array(Y)"
   ]
  },
  {
   "cell_type": "markdown",
   "metadata": {},
   "source": [
    "## 计算每一个分类Y的概率"
   ]
  },
  {
   "cell_type": "code",
   "execution_count": 3,
   "metadata": {},
   "outputs": [],
   "source": [
    "def calcPClassY(Y):\n",
    "    pClassY = {}\n",
    "    Y_len = len(Y)\n",
    "    Y_value = set(Y)\n",
    "    for i in Y_value:\n",
    "        pClassY[i] = np.sum(Y == i) / Y_len\n",
    "    return pClassY"
   ]
  },
  {
   "cell_type": "markdown",
   "metadata": {},
   "source": [
    "## 计算(X1,X2)条件概率"
   ]
  },
  {
   "cell_type": "code",
   "execution_count": 4,
   "metadata": {},
   "outputs": [],
   "source": [
    "def calcPX1X2(X1, X2, Y):\n",
    "    Y_value = set(Y)\n",
    "    X_value = set(X1) | set(X2)\n",
    "    pX1X2 = {}\n",
    "    for i in Y_value:\n",
    "        Y_I_Len = np.sum(Y == i)\n",
    "        idx = Y==i\n",
    "        for j in X_value:\n",
    "            if type(j.tolist()) == int:\n",
    "                pX1X2[(i, j)] = np.sum(X1[idx] == j) / Y_I_Len\n",
    "            else:\n",
    "                pX1X2[(i, j)] = np.sum(X2[idx] == j) / Y_I_Len\n",
    "    return pX1X2"
   ]
  },
  {
   "cell_type": "markdown",
   "metadata": {},
   "source": [
    "## 朴素贝叶斯分类函数"
   ]
  },
  {
   "cell_type": "code",
   "execution_count": 5,
   "metadata": {},
   "outputs": [],
   "source": [
    "def classify(data, pX1X2, pClassY):\n",
    "    postinMat = {}\n",
    "    for k in pClassY.keys():\n",
    "        postinP = pClassY[k] * pX1X2[(k, data[0])] * pX1X2[(k, data[1])]\n",
    "        print(k, '类的概率为：', postinP)\n",
    "        # 保存字典\n",
    "        postinMat[k] = postinP\n",
    "    sort_d=sorted(postinMat.items(),key = lambda postinMat:postinMat[1],reverse=True)\n",
    "    predictClass = sort_d[0][0]\n",
    "    return predictClass"
   ]
  },
  {
   "cell_type": "code",
   "execution_count": 6,
   "metadata": {},
   "outputs": [],
   "source": [
    "X1, X2, Y = loadDataSet()"
   ]
  },
  {
   "cell_type": "code",
   "execution_count": 7,
   "metadata": {},
   "outputs": [],
   "source": [
    "pClassY = calcPClassY(Y)"
   ]
  },
  {
   "cell_type": "code",
   "execution_count": 8,
   "metadata": {},
   "outputs": [
    {
     "data": {
      "text/plain": [
       "{1: 0.625, -1: 0.375}"
      ]
     },
     "execution_count": 8,
     "metadata": {},
     "output_type": "execute_result"
    }
   ],
   "source": [
    "pClassY"
   ]
  },
  {
   "cell_type": "code",
   "execution_count": 9,
   "metadata": {},
   "outputs": [],
   "source": [
    "pX1X2 = calcPX1X2(X1, X2, Y)"
   ]
  },
  {
   "cell_type": "code",
   "execution_count": 10,
   "metadata": {},
   "outputs": [
    {
     "data": {
      "text/plain": [
       "{(1, 1): 0.2,\n",
       " (1, 2): 0.4,\n",
       " (1, 3): 0.4,\n",
       " (1, 'S'): 0.2,\n",
       " (1, 'M'): 0.4,\n",
       " (1, 'L'): 0.4,\n",
       " (-1, 1): 0.5,\n",
       " (-1, 2): 0.3333333333333333,\n",
       " (-1, 3): 0.16666666666666666,\n",
       " (-1, 'S'): 0.5,\n",
       " (-1, 'M'): 0.3333333333333333,\n",
       " (-1, 'L'): 0.16666666666666666}"
      ]
     },
     "execution_count": 10,
     "metadata": {},
     "output_type": "execute_result"
    }
   ],
   "source": [
    "pX1X2"
   ]
  },
  {
   "cell_type": "markdown",
   "metadata": {},
   "source": [
    "## 使用算法：预测分类"
   ]
  },
  {
   "cell_type": "code",
   "execution_count": 11,
   "metadata": {},
   "outputs": [
    {
     "name": "stdout",
     "output_type": "stream",
     "text": [
      "1 类的概率为： 0.05\n",
      "-1 类的概率为： 0.0625\n"
     ]
    }
   ],
   "source": [
    "predictClass = classify((2, 'S'), pX1X2, pClassY)"
   ]
  },
  {
   "cell_type": "code",
   "execution_count": 12,
   "metadata": {},
   "outputs": [
    {
     "data": {
      "text/plain": [
       "-1"
      ]
     },
     "execution_count": 12,
     "metadata": {},
     "output_type": "execute_result"
    }
   ],
   "source": [
    "predictClass"
   ]
  },
  {
   "cell_type": "code",
   "execution_count": null,
   "metadata": {},
   "outputs": [],
   "source": []
  }
 ],
 "metadata": {
  "kernelspec": {
   "display_name": "Python 3",
   "language": "python",
   "name": "python3"
  },
  "language_info": {
   "codemirror_mode": {
    "name": "ipython",
    "version": 3
   },
   "file_extension": ".py",
   "mimetype": "text/x-python",
   "name": "python",
   "nbconvert_exporter": "python",
   "pygments_lexer": "ipython3",
   "version": "3.7.0"
  }
 },
 "nbformat": 4,
 "nbformat_minor": 1
}

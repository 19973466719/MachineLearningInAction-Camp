{
 "cells": [
  {
   "cell_type": "markdown",
   "metadata": {
    "collapsed": true
   },
   "source": [
    "# 在一个难数据集上应用AdaBoost"
   ]
  },
  {
   "cell_type": "markdown",
   "metadata": {},
   "source": [
    "1. 收集数据：提供的文本文件。\n",
    "2. 准备数据：确保类别标签是+1和-1而非1和0。\n",
    "3. 分析数据：手工检查数据。\n",
    "4. 训练算法：在数据上，利用adaBoostTrainDS()函数训练出一系列的分类器。\n",
    "5. 测试算法：我们拥有两个数据集。在不采用随机抽样的方法下，我们就会对AdaBoost和Logistic回归的结果进行完全对等的比较。\n",
    "6. 使用算法：观察该例子上的错误率。不过，也可以构建一个Web网站，让驯马师输入马的症状然后预测马是否会死去。"
   ]
  },
  {
   "cell_type": "code",
   "execution_count": 1,
   "metadata": {},
   "outputs": [],
   "source": [
    "import numpy as np"
   ]
  },
  {
   "cell_type": "markdown",
   "metadata": {},
   "source": [
    "## 加载数据集，自适应数据加载函数"
   ]
  },
  {
   "cell_type": "code",
   "execution_count": 2,
   "metadata": {},
   "outputs": [],
   "source": [
    "def loadDataSet(fileName):\n",
    "    # 自动检测出特征的数目\n",
    "    numFeat = len(open(fileName).readline().split('\\t'))\n",
    "    dataMat = []; labelMat = []\n",
    "    fr = open(fileName)\n",
    "    for line in fr.readlines():\n",
    "        lineArr = []\n",
    "        curLine = line.strip().split('\\t')\n",
    "        for i in range(numFeat - 1):\n",
    "            lineArr.append(float(curLine[i]))\n",
    "        dataMat.append(lineArr)\n",
    "        # 假定最后一个特征是类别标签\n",
    "        labelMat.append(float(curLine[-1]))\n",
    "    return dataMat, labelMat"
   ]
  },
  {
   "cell_type": "code",
   "execution_count": 3,
   "metadata": {},
   "outputs": [],
   "source": [
    "# 通过阈值比较对数据进行分类\n",
    "def stumpClassify(dataMatrix, dimen, threshVal, threshIneq):\n",
    "    # 将返回数组中的全部元素设置为1\n",
    "    retArray = np.ones((np.shape(dataMatrix)[0], 1))\n",
    "    # 所有满足不等式要求的元素设置为-1\n",
    "    if threshIneq == 'lt':\n",
    "        retArray[dataMatrix[:, dimen] <= threshVal] = -1\n",
    "    else:\n",
    "        retArray[dataMatrix[:, dimen] > threshVal] = -1\n",
    "    return retArray"
   ]
  },
  {
   "cell_type": "code",
   "execution_count": 4,
   "metadata": {},
   "outputs": [],
   "source": [
    "# 遍历所有的可能输入值，并找到数据集上最佳的单层决策树\n",
    "def buildStump(dataArr, classLabels, D):\n",
    "    # 将数据矩阵化\n",
    "    dataMatrix = np.mat(dataArr); labelMat = np.mat(classLabels).T\n",
    "    m, n = np.shape(dataMatrix)\n",
    "    # bestStump 用于存储给定权重向量D时所得到的最佳单层决策树的相关信息\n",
    "    # numSteps 用于在特征的所有可能值上进行遍历\n",
    "    numSteps = 10; bestStump = {}; bestClasEst =np.mat(np.zeros((m, 1)))\n",
    "    # 一开始就初始化成正无穷大，用于寻找可能的最小错误率\n",
    "    minError = np.Inf\n",
    "    # 在所有特征上遍历\n",
    "    for i in range(n):\n",
    "        rangeMin = dataMatrix[:, i].min(); rangeMax = dataMatrix[:, i].max();\n",
    "        # 计算得到步长\n",
    "        stepSize = (rangeMax - rangeMin) / numSteps\n",
    "        # 从最左边开始设置阈值，-1的目的是从一开始就将最小点归为右侧\n",
    "        for j in range(-1, int(numSteps) + 1):\n",
    "            for inequal in ['lt', 'gt']:\n",
    "                # 设置阈值\n",
    "                threshVal = rangeMin + float(j) * stepSize\n",
    "                predictedVals = stumpClassify(dataMatrix, i, threshVal, inequal)\n",
    "                errArr = np.mat(np.ones((m, 1)))\n",
    "                # 如果predictedVals中的值不等于labelMat中的真正类别标签值，就设置为1\n",
    "                # 否则设置为0\n",
    "                errArr[predictedVals == labelMat] = 0\n",
    "                weightedError = D.T * errArr\n",
    "                #print(\"split: dim %d, thresh %.2f, thresh ineqal: %s, the weighted error is %.3f\" % (i, threshVal, inequal, weightedError))\n",
    "                if weightedError < minError:\n",
    "                    minError = weightedError\n",
    "                    bestClasEst = predictedVals.copy()\n",
    "                    bestStump['dim'] = i\n",
    "                    bestStump['thresh'] = threshVal\n",
    "                    bestStump['ineq'] = inequal\n",
    "    return bestStump, minError, bestClasEst"
   ]
  },
  {
   "cell_type": "code",
   "execution_count": 5,
   "metadata": {},
   "outputs": [],
   "source": [
    "# dataArr 数据集，classLabels 类别标签, numIt 迭代次数\n",
    "def adaBoostTrainDS(dataArr, classLabels, numIt=40):\n",
    "    weakClassArr = []\n",
    "    m = np.shape(dataArr)[0]\n",
    "    # D是一个概率分布向量，所有的元素之和为1.0\n",
    "    D = np.mat(np.ones((m, 1)) / m)\n",
    "    # 记录每个数据点的类别估计累计值\n",
    "    aggClassEst = np.mat(np.zeros((m, 1)))\n",
    "    for i in range(numIt):\n",
    "        #返回最小错误率的单层决策树，最小错误率，估计的类别向量\n",
    "        bestStump, error, classEst = buildStump(dataArr, classLabels, D)\n",
    "        #print(\"D: \", D.T)\n",
    "        # 计算alpha值\n",
    "        alpha = float(0.5 * np.log((1.0 - error)/ max(error, 1e-16)))\n",
    "        bestStump['alpha'] = alpha\n",
    "        weakClassArr.append(bestStump)\n",
    "        #print(\"classEst: \", classEst.T)\n",
    "        # 计算下一次迭代的D\n",
    "        expon = np.multiply(-1 * alpha * np.mat(classLabels).T, classEst)\n",
    "        D = np.multiply(D, np.exp(expon))\n",
    "        D = D / D.sum()\n",
    "        # 错误率累加计算\n",
    "        aggClassEst += alpha * classEst\n",
    "        #print(\"aggClassEst: \", aggClassEst.T)\n",
    "        aggErrors = np.multiply(np.sign(aggClassEst) != np.mat(classLabels).T, np.ones((m, 1)))\n",
    "        errorRate = aggErrors.sum() / m\n",
    "        print(\"total error: \", errorRate, \"\\n\")\n",
    "        if errorRate == 0.0: break\n",
    "    return weakClassArr, aggClassEst"
   ]
  },
  {
   "cell_type": "code",
   "execution_count": 6,
   "metadata": {},
   "outputs": [],
   "source": [
    "# datToClass一个或多个待分类样例，classifierArr多个弱分类器\n",
    "def adaClassify(datToClass, classifierArr):\n",
    "    dataMatrix = np.mat(datToClass)\n",
    "    m = np.shape(dataMatrix)[0]\n",
    "    aggClassEst = np.mat(np.zeros((m, 1)))\n",
    "    for i in range(len(classifierArr)):\n",
    "        classEst = stumpClassify(dataMatrix, classifierArr[i]['dim'], classifierArr[i]['thresh'], classifierArr[i]['ineq'])\n",
    "        aggClassEst += classifierArr[i]['alpha'] * classEst\n",
    "        #print(aggClassEst)\n",
    "    return np.sign(aggClassEst)"
   ]
  },
  {
   "cell_type": "code",
   "execution_count": 7,
   "metadata": {},
   "outputs": [],
   "source": [
    "dataArr, labelArr = loadDataSet('./horseColicTraining2.txt')"
   ]
  },
  {
   "cell_type": "code",
   "execution_count": 8,
   "metadata": {},
   "outputs": [
    {
     "name": "stdout",
     "output_type": "stream",
     "text": [
      "total error:  0.2842809364548495 \n",
      "\n",
      "total error:  0.2842809364548495 \n",
      "\n",
      "total error:  0.24749163879598662 \n",
      "\n",
      "total error:  0.24749163879598662 \n",
      "\n",
      "total error:  0.25418060200668896 \n",
      "\n",
      "total error:  0.2408026755852843 \n",
      "\n",
      "total error:  0.2408026755852843 \n",
      "\n",
      "total error:  0.22073578595317725 \n",
      "\n",
      "total error:  0.24749163879598662 \n",
      "\n",
      "total error:  0.23076923076923078 \n",
      "\n"
     ]
    }
   ],
   "source": [
    "classifierArray, aggClassEst = adaBoostTrainDS(dataArr, labelArr, 10)"
   ]
  },
  {
   "cell_type": "code",
   "execution_count": 9,
   "metadata": {},
   "outputs": [],
   "source": [
    "testArr, testLabelArr = loadDataSet('./horseColicTest2.txt')"
   ]
  },
  {
   "cell_type": "code",
   "execution_count": 10,
   "metadata": {},
   "outputs": [],
   "source": [
    "prediction10 = adaClassify(testArr, classifierArray)"
   ]
  },
  {
   "cell_type": "code",
   "execution_count": 11,
   "metadata": {},
   "outputs": [],
   "source": [
    "errArr = np.mat(np.ones((67, 1)))"
   ]
  },
  {
   "cell_type": "code",
   "execution_count": 12,
   "metadata": {},
   "outputs": [
    {
     "data": {
      "text/plain": [
       "16.0"
      ]
     },
     "execution_count": 12,
     "metadata": {},
     "output_type": "execute_result"
    }
   ],
   "source": [
    "errArr[prediction10 != np.mat(testLabelArr).T].sum()"
   ]
  },
  {
   "cell_type": "markdown",
   "metadata": {},
   "source": [
    "使用10个分类器的时候，得到错分样例的个数是16个"
   ]
  },
  {
   "cell_type": "markdown",
   "metadata": {},
   "source": [
    "## ROC曲线的绘制及AUC计算函数"
   ]
  },
  {
   "cell_type": "code",
   "execution_count": 13,
   "metadata": {},
   "outputs": [],
   "source": [
    "# predStrengths: 分类器的预测强度，classLabels：类别标签\n",
    "def plotROC(predStrengths, classLabels):\n",
    "    import matplotlib.pyplot as plt\n",
    "    # 绘制光标的位置\n",
    "    cur = (1.0, 1.0)\n",
    "    # AUC值\n",
    "    ySum = 0.0\n",
    "    # 得到正例的总数\n",
    "    numPosClas = sum(np.array(classLabels) == 1.0)\n",
    "    # 确定步长\n",
    "    yStep = 1 / float(numPosClas)\n",
    "    xStep = 1 / float(len(classLabels) - numPosClas)\n",
    "    # 对预测强度进行排序，并得到索引，由小到大排序\n",
    "    sortedIndicies = predStrengths.argsort()\n",
    "    fig = plt.figure()\n",
    "    fig.clf()\n",
    "    ax = plt.subplot(111)\n",
    "    for index in sortedIndicies.tolist()[0]:\n",
    "        if classLabels[index] == 1.0:\n",
    "            delX = 0; delY = yStep\n",
    "        else:\n",
    "            delX = xStep; delY = 0\n",
    "            ySum += cur[1]\n",
    "        # 从点(1.0,1.0)开始绘制，一直到(0,0)\n",
    "        ax.plot([cur[0], cur[0] - delX], [cur[1], cur[1] - delY], c = 'b')\n",
    "        cur = (cur[0] - delX, cur[1] - delY)\n",
    "    # 绘制虚线\n",
    "    ax.plot([0, 1], [0, 1], 'b--')\n",
    "    plt.xlabel('False Positive Rate'); plt.ylabel(\"True Positive Rate\")\n",
    "    plt.title(\"ROC curve for AdaBoost Horse Colic Detection System\")\n",
    "    ax.axis([0,1,0,1])\n",
    "    plt.show()\n",
    "    print(\"the Area Under the Curive is:\", ySum * xStep)"
   ]
  },
  {
   "cell_type": "markdown",
   "metadata": {},
   "source": [
    "### 10个弱分类器，AdaBoost算法性能AUC"
   ]
  },
  {
   "cell_type": "code",
   "execution_count": 14,
   "metadata": {},
   "outputs": [],
   "source": [
    "dataArr, labelArr = loadDataSet('./horseColicTraining2.txt')"
   ]
  },
  {
   "cell_type": "code",
   "execution_count": 15,
   "metadata": {},
   "outputs": [
    {
     "name": "stdout",
     "output_type": "stream",
     "text": [
      "total error:  0.2842809364548495 \n",
      "\n",
      "total error:  0.2842809364548495 \n",
      "\n",
      "total error:  0.24749163879598662 \n",
      "\n",
      "total error:  0.24749163879598662 \n",
      "\n",
      "total error:  0.25418060200668896 \n",
      "\n",
      "total error:  0.2408026755852843 \n",
      "\n",
      "total error:  0.2408026755852843 \n",
      "\n",
      "total error:  0.22073578595317725 \n",
      "\n",
      "total error:  0.24749163879598662 \n",
      "\n",
      "total error:  0.23076923076923078 \n",
      "\n"
     ]
    }
   ],
   "source": [
    "classifierArray, aggClassEst = adaBoostTrainDS(dataArr, labelArr, 10)"
   ]
  },
  {
   "cell_type": "code",
   "execution_count": 16,
   "metadata": {
    "scrolled": true
   },
   "outputs": [
    {
     "data": {
      "image/png": "[encoded data removed]",
      "text/plain": [
       "<Figure size 432x288 with 1 Axes>"
      ]
     },
     "metadata": {
      "needs_background": "light"
     },
     "output_type": "display_data"
    },
    {
     "name": "stdout",
     "output_type": "stream",
     "text": [
      "the Area Under the Curive is: 0.8582969635063604\n"
     ]
    }
   ],
   "source": [
    "plotROC(aggClassEst.T, labelArr)"
   ]
  },
  {
   "cell_type": "markdown",
   "metadata": {},
   "source": [
    "### 50个弱分类器，AdaBoost算法性能AUC"
   ]
  },
  {
   "cell_type": "code",
   "execution_count": 17,
   "metadata": {},
   "outputs": [
    {
     "name": "stdout",
     "output_type": "stream",
     "text": [
      "total error:  0.2842809364548495 \n",
      "\n",
      "total error:  0.2842809364548495 \n",
      "\n",
      "total error:  0.24749163879598662 \n",
      "\n",
      "total error:  0.24749163879598662 \n",
      "\n",
      "total error:  0.25418060200668896 \n",
      "\n",
      "total error:  0.2408026755852843 \n",
      "\n",
      "total error:  0.2408026755852843 \n",
      "\n",
      "total error:  0.22073578595317725 \n",
      "\n",
      "total error:  0.24749163879598662 \n",
      "\n",
      "total error:  0.23076923076923078 \n",
      "\n",
      "total error:  0.2408026755852843 \n",
      "\n",
      "total error:  0.2140468227424749 \n",
      "\n",
      "total error:  0.22742474916387959 \n",
      "\n",
      "total error:  0.21739130434782608 \n",
      "\n",
      "total error:  0.22073578595317725 \n",
      "\n",
      "total error:  0.21739130434782608 \n",
      "\n",
      "total error:  0.22408026755852842 \n",
      "\n",
      "total error:  0.22408026755852842 \n",
      "\n",
      "total error:  0.23076923076923078 \n",
      "\n",
      "total error:  0.22408026755852842 \n",
      "\n",
      "total error:  0.2140468227424749 \n",
      "\n",
      "total error:  0.20735785953177258 \n",
      "\n",
      "total error:  0.22408026755852842 \n",
      "\n",
      "total error:  0.22408026755852842 \n",
      "\n",
      "total error:  0.2140468227424749 \n",
      "\n",
      "total error:  0.22073578595317725 \n",
      "\n",
      "total error:  0.2040133779264214 \n",
      "\n",
      "total error:  0.20735785953177258 \n",
      "\n",
      "total error:  0.21070234113712374 \n",
      "\n",
      "total error:  0.21739130434782608 \n",
      "\n",
      "total error:  0.21070234113712374 \n",
      "\n",
      "total error:  0.21739130434782608 \n",
      "\n",
      "total error:  0.20735785953177258 \n",
      "\n",
      "total error:  0.21070234113712374 \n",
      "\n",
      "total error:  0.20735785953177258 \n",
      "\n",
      "total error:  0.20735785953177258 \n",
      "\n",
      "total error:  0.19732441471571907 \n",
      "\n",
      "total error:  0.19063545150501673 \n",
      "\n",
      "total error:  0.20066889632107024 \n",
      "\n",
      "total error:  0.19732441471571907 \n",
      "\n",
      "total error:  0.20066889632107024 \n",
      "\n",
      "total error:  0.1939799331103679 \n",
      "\n",
      "total error:  0.1939799331103679 \n",
      "\n",
      "total error:  0.19063545150501673 \n",
      "\n",
      "total error:  0.18729096989966554 \n",
      "\n",
      "total error:  0.19063545150501673 \n",
      "\n",
      "total error:  0.19063545150501673 \n",
      "\n",
      "total error:  0.18729096989966554 \n",
      "\n",
      "total error:  0.1939799331103679 \n",
      "\n",
      "total error:  0.18729096989966554 \n",
      "\n"
     ]
    }
   ],
   "source": [
    "classifierArray, aggClassEst = adaBoostTrainDS(dataArr, labelArr, 50)"
   ]
  },
  {
   "cell_type": "code",
   "execution_count": 18,
   "metadata": {},
   "outputs": [
    {
     "data": {
      "image/png": "[encoded data removed]",
      "text/plain": [
       "<Figure size 432x288 with 1 Axes>"
      ]
     },
     "metadata": {
      "needs_background": "light"
     },
     "output_type": "display_data"
    },
    {
     "name": "stdout",
     "output_type": "stream",
     "text": [
      "the Area Under the Curive is: 0.8953941870182941\n"
     ]
    }
   ],
   "source": [
    "plotROC(aggClassEst.T, labelArr)"
   ]
  },
  {
   "cell_type": "code",
   "execution_count": null,
   "metadata": {},
   "outputs": [],
   "source": []
  }
 ],
 "metadata": {
  "kernelspec": {
   "display_name": "Python 3",
   "language": "python",
   "name": "python3"
  },
  "language_info": {
   "codemirror_mode": {
    "name": "ipython",
    "version": 3
   },
   "file_extension": ".py",
   "mimetype": "text/x-python",
   "name": "python",
   "nbconvert_exporter": "python",
   "pygments_lexer": "ipython3",
   "version": "3.7.2"
  }
 },
 "nbformat": 4,
 "nbformat_minor": 1
}

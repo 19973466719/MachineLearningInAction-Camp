{
 "cells": [
  {
   "cell_type": "code",
   "execution_count": 1,
   "metadata": {},
   "outputs": [],
   "source": [
    "import numpy as np\n",
    "import pandas as pd\n",
    "from sklearn.model_selection import cross_val_score\n",
    "from sklearn.ensemble import RandomForestRegressor"
   ]
  },
  {
   "cell_type": "code",
   "execution_count": 6,
   "metadata": {},
   "outputs": [
    {
     "data": {
      "text/html": [
       "<div>\n",
       "<style scoped>\n",
       "    .dataframe tbody tr th:only-of-type {\n",
       "        vertical-align: middle;\n",
       "    }\n",
       "\n",
       "    .dataframe tbody tr th {\n",
       "        vertical-align: top;\n",
       "    }\n",
       "\n",
       "    .dataframe thead th {\n",
       "        text-align: right;\n",
       "    }\n",
       "</style>\n",
       "<table border=\"1\" class=\"dataframe\">\n",
       "  <thead>\n",
       "    <tr style=\"text-align: right;\">\n",
       "      <th></th>\n",
       "      <th>日期</th>\n",
       "      <th>燃气用量</th>\n",
       "      <th>湿度极差归一化</th>\n",
       "      <th>pm2.5归一化</th>\n",
       "      <th>AQI归一化</th>\n",
       "      <th>季节因素归一化</th>\n",
       "    </tr>\n",
       "  </thead>\n",
       "  <tbody>\n",
       "    <tr>\n",
       "      <th>0</th>\n",
       "      <td>1/1/16 12:00 AM</td>\n",
       "      <td>405.81</td>\n",
       "      <td>0.715976</td>\n",
       "      <td>0.772973</td>\n",
       "      <td>0.799087</td>\n",
       "      <td>0.266362</td>\n",
       "    </tr>\n",
       "    <tr>\n",
       "      <th>1</th>\n",
       "      <td>1/2/16 12:00 AM</td>\n",
       "      <td>357.42</td>\n",
       "      <td>0.479290</td>\n",
       "      <td>0.740541</td>\n",
       "      <td>0.757991</td>\n",
       "      <td>0.252664</td>\n",
       "    </tr>\n",
       "    <tr>\n",
       "      <th>2</th>\n",
       "      <td>1/3/16 12:00 AM</td>\n",
       "      <td>350.44</td>\n",
       "      <td>0.805391</td>\n",
       "      <td>0.562162</td>\n",
       "      <td>0.561644</td>\n",
       "      <td>0.187215</td>\n",
       "    </tr>\n",
       "    <tr>\n",
       "      <th>3</th>\n",
       "      <td>1/4/16 12:00 AM</td>\n",
       "      <td>397.47</td>\n",
       "      <td>0.213018</td>\n",
       "      <td>0.621622</td>\n",
       "      <td>0.625571</td>\n",
       "      <td>0.208524</td>\n",
       "    </tr>\n",
       "    <tr>\n",
       "      <th>4</th>\n",
       "      <td>1/5/16 12:00 AM</td>\n",
       "      <td>382.64</td>\n",
       "      <td>0.515450</td>\n",
       "      <td>0.745946</td>\n",
       "      <td>0.767123</td>\n",
       "      <td>0.255708</td>\n",
       "    </tr>\n",
       "  </tbody>\n",
       "</table>\n",
       "</div>"
      ],
      "text/plain": [
       "                日期    燃气用量   湿度极差归一化  pm2.5归一化    AQI归一化   季节因素归一化\n",
       "0  1/1/16 12:00 AM  405.81  0.715976  0.772973  0.799087  0.266362\n",
       "1  1/2/16 12:00 AM  357.42  0.479290  0.740541  0.757991  0.252664\n",
       "2  1/3/16 12:00 AM  350.44  0.805391  0.562162  0.561644  0.187215\n",
       "3  1/4/16 12:00 AM  397.47  0.213018  0.621622  0.625571  0.208524\n",
       "4  1/5/16 12:00 AM  382.64  0.515450  0.745946  0.767123  0.255708"
      ]
     },
     "execution_count": 6,
     "metadata": {},
     "output_type": "execute_result"
    }
   ],
   "source": [
    "data = pd.read_csv('./natural_gas_data.csv',encoding='gbk')\n",
    "data.head()"
   ]
  },
  {
   "cell_type": "code",
   "execution_count": 7,
   "metadata": {},
   "outputs": [
    {
     "data": {
      "text/html": [
       "<div>\n",
       "<style scoped>\n",
       "    .dataframe tbody tr th:only-of-type {\n",
       "        vertical-align: middle;\n",
       "    }\n",
       "\n",
       "    .dataframe tbody tr th {\n",
       "        vertical-align: top;\n",
       "    }\n",
       "\n",
       "    .dataframe thead th {\n",
       "        text-align: right;\n",
       "    }\n",
       "</style>\n",
       "<table border=\"1\" class=\"dataframe\">\n",
       "  <thead>\n",
       "    <tr style=\"text-align: right;\">\n",
       "      <th></th>\n",
       "      <th>燃气用量</th>\n",
       "      <th>湿度极差归一化</th>\n",
       "      <th>pm2.5归一化</th>\n",
       "      <th>AQI归一化</th>\n",
       "      <th>季节因素归一化</th>\n",
       "    </tr>\n",
       "  </thead>\n",
       "  <tbody>\n",
       "    <tr>\n",
       "      <th>0</th>\n",
       "      <td>405.81</td>\n",
       "      <td>0.715976</td>\n",
       "      <td>0.772973</td>\n",
       "      <td>0.799087</td>\n",
       "      <td>0.266362</td>\n",
       "    </tr>\n",
       "    <tr>\n",
       "      <th>1</th>\n",
       "      <td>357.42</td>\n",
       "      <td>0.479290</td>\n",
       "      <td>0.740541</td>\n",
       "      <td>0.757991</td>\n",
       "      <td>0.252664</td>\n",
       "    </tr>\n",
       "    <tr>\n",
       "      <th>2</th>\n",
       "      <td>350.44</td>\n",
       "      <td>0.805391</td>\n",
       "      <td>0.562162</td>\n",
       "      <td>0.561644</td>\n",
       "      <td>0.187215</td>\n",
       "    </tr>\n",
       "    <tr>\n",
       "      <th>3</th>\n",
       "      <td>397.47</td>\n",
       "      <td>0.213018</td>\n",
       "      <td>0.621622</td>\n",
       "      <td>0.625571</td>\n",
       "      <td>0.208524</td>\n",
       "    </tr>\n",
       "    <tr>\n",
       "      <th>4</th>\n",
       "      <td>382.64</td>\n",
       "      <td>0.515450</td>\n",
       "      <td>0.745946</td>\n",
       "      <td>0.767123</td>\n",
       "      <td>0.255708</td>\n",
       "    </tr>\n",
       "  </tbody>\n",
       "</table>\n",
       "</div>"
      ],
      "text/plain": [
       "     燃气用量   湿度极差归一化  pm2.5归一化    AQI归一化   季节因素归一化\n",
       "0  405.81  0.715976  0.772973  0.799087  0.266362\n",
       "1  357.42  0.479290  0.740541  0.757991  0.252664\n",
       "2  350.44  0.805391  0.562162  0.561644  0.187215\n",
       "3  397.47  0.213018  0.621622  0.625571  0.208524\n",
       "4  382.64  0.515450  0.745946  0.767123  0.255708"
      ]
     },
     "execution_count": 7,
     "metadata": {},
     "output_type": "execute_result"
    }
   ],
   "source": [
    "data.drop(['日期'],inplace=True,axis=1)\n",
    "data.head()"
   ]
  },
  {
   "cell_type": "code",
   "execution_count": 8,
   "metadata": {},
   "outputs": [
    {
     "data": {
      "text/html": [
       "<div>\n",
       "<style scoped>\n",
       "    .dataframe tbody tr th:only-of-type {\n",
       "        vertical-align: middle;\n",
       "    }\n",
       "\n",
       "    .dataframe tbody tr th {\n",
       "        vertical-align: top;\n",
       "    }\n",
       "\n",
       "    .dataframe thead th {\n",
       "        text-align: right;\n",
       "    }\n",
       "</style>\n",
       "<table border=\"1\" class=\"dataframe\">\n",
       "  <thead>\n",
       "    <tr style=\"text-align: right;\">\n",
       "      <th></th>\n",
       "      <th>湿度极差归一化</th>\n",
       "      <th>pm2.5归一化</th>\n",
       "      <th>AQI归一化</th>\n",
       "      <th>季节因素归一化</th>\n",
       "    </tr>\n",
       "  </thead>\n",
       "  <tbody>\n",
       "    <tr>\n",
       "      <th>0</th>\n",
       "      <td>0.715976</td>\n",
       "      <td>0.772973</td>\n",
       "      <td>0.799087</td>\n",
       "      <td>0.266362</td>\n",
       "    </tr>\n",
       "    <tr>\n",
       "      <th>1</th>\n",
       "      <td>0.479290</td>\n",
       "      <td>0.740541</td>\n",
       "      <td>0.757991</td>\n",
       "      <td>0.252664</td>\n",
       "    </tr>\n",
       "    <tr>\n",
       "      <th>2</th>\n",
       "      <td>0.805391</td>\n",
       "      <td>0.562162</td>\n",
       "      <td>0.561644</td>\n",
       "      <td>0.187215</td>\n",
       "    </tr>\n",
       "    <tr>\n",
       "      <th>3</th>\n",
       "      <td>0.213018</td>\n",
       "      <td>0.621622</td>\n",
       "      <td>0.625571</td>\n",
       "      <td>0.208524</td>\n",
       "    </tr>\n",
       "    <tr>\n",
       "      <th>4</th>\n",
       "      <td>0.515450</td>\n",
       "      <td>0.745946</td>\n",
       "      <td>0.767123</td>\n",
       "      <td>0.255708</td>\n",
       "    </tr>\n",
       "  </tbody>\n",
       "</table>\n",
       "</div>"
      ],
      "text/plain": [
       "    湿度极差归一化  pm2.5归一化    AQI归一化   季节因素归一化\n",
       "0  0.715976  0.772973  0.799087  0.266362\n",
       "1  0.479290  0.740541  0.757991  0.252664\n",
       "2  0.805391  0.562162  0.561644  0.187215\n",
       "3  0.213018  0.621622  0.625571  0.208524\n",
       "4  0.515450  0.745946  0.767123  0.255708"
      ]
     },
     "execution_count": 8,
     "metadata": {},
     "output_type": "execute_result"
    }
   ],
   "source": [
    "X = data.iloc[:,data.columns !='燃气用量']\n",
    "X.head()"
   ]
  },
  {
   "cell_type": "code",
   "execution_count": 9,
   "metadata": {},
   "outputs": [
    {
     "data": {
      "text/html": [
       "<div>\n",
       "<style scoped>\n",
       "    .dataframe tbody tr th:only-of-type {\n",
       "        vertical-align: middle;\n",
       "    }\n",
       "\n",
       "    .dataframe tbody tr th {\n",
       "        vertical-align: top;\n",
       "    }\n",
       "\n",
       "    .dataframe thead th {\n",
       "        text-align: right;\n",
       "    }\n",
       "</style>\n",
       "<table border=\"1\" class=\"dataframe\">\n",
       "  <thead>\n",
       "    <tr style=\"text-align: right;\">\n",
       "      <th></th>\n",
       "      <th>燃气用量</th>\n",
       "    </tr>\n",
       "  </thead>\n",
       "  <tbody>\n",
       "    <tr>\n",
       "      <th>0</th>\n",
       "      <td>405.81</td>\n",
       "    </tr>\n",
       "    <tr>\n",
       "      <th>1</th>\n",
       "      <td>357.42</td>\n",
       "    </tr>\n",
       "    <tr>\n",
       "      <th>2</th>\n",
       "      <td>350.44</td>\n",
       "    </tr>\n",
       "    <tr>\n",
       "      <th>3</th>\n",
       "      <td>397.47</td>\n",
       "    </tr>\n",
       "    <tr>\n",
       "      <th>4</th>\n",
       "      <td>382.64</td>\n",
       "    </tr>\n",
       "  </tbody>\n",
       "</table>\n",
       "</div>"
      ],
      "text/plain": [
       "     燃气用量\n",
       "0  405.81\n",
       "1  357.42\n",
       "2  350.44\n",
       "3  397.47\n",
       "4  382.64"
      ]
     },
     "execution_count": 9,
     "metadata": {},
     "output_type": "execute_result"
    }
   ],
   "source": [
    "y = data.iloc[:,data.columns =='燃气用量']\n",
    "y.head()"
   ]
  },
  {
   "cell_type": "code",
   "execution_count": 13,
   "metadata": {},
   "outputs": [
    {
     "name": "stderr",
     "output_type": "stream",
     "text": [
      "D:\\MyPythonWork\\MachineLearningInAction-Camp\\venv\\lib\\site-packages\\sklearn\\model_selection\\_validation.py:528: DataConversionWarning: A column-vector y was passed when a 1d array was expected. Please change the shape of y to (n_samples,), for example using ravel().\n",
      "  estimator.fit(X_train, y_train, **fit_params)\n",
      "D:\\MyPythonWork\\MachineLearningInAction-Camp\\venv\\lib\\site-packages\\sklearn\\model_selection\\_validation.py:528: DataConversionWarning: A column-vector y was passed when a 1d array was expected. Please change the shape of y to (n_samples,), for example using ravel().\n",
      "  estimator.fit(X_train, y_train, **fit_params)\n",
      "D:\\MyPythonWork\\MachineLearningInAction-Camp\\venv\\lib\\site-packages\\sklearn\\model_selection\\_validation.py:528: DataConversionWarning: A column-vector y was passed when a 1d array was expected. Please change the shape of y to (n_samples,), for example using ravel().\n",
      "  estimator.fit(X_train, y_train, **fit_params)\n",
      "D:\\MyPythonWork\\MachineLearningInAction-Camp\\venv\\lib\\site-packages\\sklearn\\model_selection\\_validation.py:528: DataConversionWarning: A column-vector y was passed when a 1d array was expected. Please change the shape of y to (n_samples,), for example using ravel().\n",
      "  estimator.fit(X_train, y_train, **fit_params)\n",
      "D:\\MyPythonWork\\MachineLearningInAction-Camp\\venv\\lib\\site-packages\\sklearn\\model_selection\\_validation.py:528: DataConversionWarning: A column-vector y was passed when a 1d array was expected. Please change the shape of y to (n_samples,), for example using ravel().\n",
      "  estimator.fit(X_train, y_train, **fit_params)\n",
      "D:\\MyPythonWork\\MachineLearningInAction-Camp\\venv\\lib\\site-packages\\sklearn\\model_selection\\_validation.py:528: DataConversionWarning: A column-vector y was passed when a 1d array was expected. Please change the shape of y to (n_samples,), for example using ravel().\n",
      "  estimator.fit(X_train, y_train, **fit_params)\n",
      "D:\\MyPythonWork\\MachineLearningInAction-Camp\\venv\\lib\\site-packages\\sklearn\\model_selection\\_validation.py:528: DataConversionWarning: A column-vector y was passed when a 1d array was expected. Please change the shape of y to (n_samples,), for example using ravel().\n",
      "  estimator.fit(X_train, y_train, **fit_params)\n",
      "D:\\MyPythonWork\\MachineLearningInAction-Camp\\venv\\lib\\site-packages\\sklearn\\model_selection\\_validation.py:528: DataConversionWarning: A column-vector y was passed when a 1d array was expected. Please change the shape of y to (n_samples,), for example using ravel().\n",
      "  estimator.fit(X_train, y_train, **fit_params)\n",
      "D:\\MyPythonWork\\MachineLearningInAction-Camp\\venv\\lib\\site-packages\\sklearn\\model_selection\\_validation.py:528: DataConversionWarning: A column-vector y was passed when a 1d array was expected. Please change the shape of y to (n_samples,), for example using ravel().\n",
      "  estimator.fit(X_train, y_train, **fit_params)\n",
      "D:\\MyPythonWork\\MachineLearningInAction-Camp\\venv\\lib\\site-packages\\sklearn\\model_selection\\_validation.py:528: DataConversionWarning: A column-vector y was passed when a 1d array was expected. Please change the shape of y to (n_samples,), for example using ravel().\n",
      "  estimator.fit(X_train, y_train, **fit_params)\n"
     ]
    },
    {
     "data": {
      "text/plain": [
       "array([-12.00052408,  -2.37403667,  -9.8727194 , -57.57216505,\n",
       "       -52.23136261, -20.79826824, -14.94978698, -14.1316161 ,\n",
       "        -4.05765997, -35.93659087])"
      ]
     },
     "execution_count": 13,
     "metadata": {},
     "output_type": "execute_result"
    }
   ],
   "source": [
    "regressor = RandomForestRegressor(n_estimators=50,random_state=0)\n",
    "score=cross_val_score(regressor, X, y, cv=10\n",
    "              # ,scoring = \"neg_mean_squared_error\"\n",
    "               )\n",
    "score"
   ]
  },
  {
   "cell_type": "code",
   "execution_count": 11,
   "metadata": {},
   "outputs": [
    {
     "data": {
      "text/plain": [
       "-22.392472998463344"
      ]
     },
     "execution_count": 11,
     "metadata": {},
     "output_type": "execute_result"
    }
   ],
   "source": [
    "score.mean()"
   ]
  },
  {
   "cell_type": "code",
   "execution_count": null,
   "metadata": {},
   "outputs": [],
   "source": []
  }
 ],
 "metadata": {
  "kernelspec": {
   "display_name": "Python 3",
   "language": "python",
   "name": "python3"
  },
  "language_info": {
   "codemirror_mode": {
    "name": "ipython",
    "version": 3
   },
   "file_extension": ".py",
   "mimetype": "text/x-python",
   "name": "python",
   "nbconvert_exporter": "python",
   "pygments_lexer": "ipython3",
   "version": "3.7.2"
  }
 },
 "nbformat": 4,
 "nbformat_minor": 2
}

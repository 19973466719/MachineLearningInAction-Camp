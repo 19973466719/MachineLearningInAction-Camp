{
 "cells": [
  {
   "cell_type": "code",
   "execution_count": 2,
   "metadata": {},
   "outputs": [],
   "source": [
    "import numpy as np\n",
    "import pandas as pd\n",
    "from sklearn.model_selection import train_test_split\n",
    "from sklearn.metrics import mean_squared_error \n",
    "from  sklearn.ensemble import RandomForestRegressor"
   ]
  },
  {
   "cell_type": "code",
   "execution_count": 3,
   "metadata": {},
   "outputs": [],
   "source": [
    "data=pd.read_csv('./natural_gas_data.csv',encoding='gbk')\n",
    "data.drop(['日期'],inplace=True,axis=1)"
   ]
  },
  {
   "cell_type": "code",
   "execution_count": 4,
   "metadata": {},
   "outputs": [
    {
     "data": {
      "text/html": [
       "<div>\n",
       "<style scoped>\n",
       "    .dataframe tbody tr th:only-of-type {\n",
       "        vertical-align: middle;\n",
       "    }\n",
       "\n",
       "    .dataframe tbody tr th {\n",
       "        vertical-align: top;\n",
       "    }\n",
       "\n",
       "    .dataframe thead th {\n",
       "        text-align: right;\n",
       "    }\n",
       "</style>\n",
       "<table border=\"1\" class=\"dataframe\">\n",
       "  <thead>\n",
       "    <tr style=\"text-align: right;\">\n",
       "      <th></th>\n",
       "      <th>燃气用量</th>\n",
       "      <th>湿度极差归一化</th>\n",
       "      <th>pm2.5归一化</th>\n",
       "      <th>AQI归一化</th>\n",
       "      <th>季节因素归一化</th>\n",
       "    </tr>\n",
       "  </thead>\n",
       "  <tbody>\n",
       "    <tr>\n",
       "      <th>0</th>\n",
       "      <td>405.81</td>\n",
       "      <td>0.715976</td>\n",
       "      <td>0.772973</td>\n",
       "      <td>0.799087</td>\n",
       "      <td>0.266362</td>\n",
       "    </tr>\n",
       "    <tr>\n",
       "      <th>1</th>\n",
       "      <td>357.42</td>\n",
       "      <td>0.479290</td>\n",
       "      <td>0.740541</td>\n",
       "      <td>0.757991</td>\n",
       "      <td>0.252664</td>\n",
       "    </tr>\n",
       "    <tr>\n",
       "      <th>2</th>\n",
       "      <td>350.44</td>\n",
       "      <td>0.805391</td>\n",
       "      <td>0.562162</td>\n",
       "      <td>0.561644</td>\n",
       "      <td>0.187215</td>\n",
       "    </tr>\n",
       "    <tr>\n",
       "      <th>3</th>\n",
       "      <td>397.47</td>\n",
       "      <td>0.213018</td>\n",
       "      <td>0.621622</td>\n",
       "      <td>0.625571</td>\n",
       "      <td>0.208524</td>\n",
       "    </tr>\n",
       "    <tr>\n",
       "      <th>4</th>\n",
       "      <td>382.64</td>\n",
       "      <td>0.515450</td>\n",
       "      <td>0.745946</td>\n",
       "      <td>0.767123</td>\n",
       "      <td>0.255708</td>\n",
       "    </tr>\n",
       "  </tbody>\n",
       "</table>\n",
       "</div>"
      ],
      "text/plain": [
       "     燃气用量   湿度极差归一化  pm2.5归一化    AQI归一化   季节因素归一化\n",
       "0  405.81  0.715976  0.772973  0.799087  0.266362\n",
       "1  357.42  0.479290  0.740541  0.757991  0.252664\n",
       "2  350.44  0.805391  0.562162  0.561644  0.187215\n",
       "3  397.47  0.213018  0.621622  0.625571  0.208524\n",
       "4  382.64  0.515450  0.745946  0.767123  0.255708"
      ]
     },
     "execution_count": 4,
     "metadata": {},
     "output_type": "execute_result"
    }
   ],
   "source": [
    "data.head(5)"
   ]
  },
  {
   "cell_type": "code",
   "execution_count": 5,
   "metadata": {},
   "outputs": [
    {
     "name": "stdout",
     "output_type": "stream",
     "text": [
      "X.shape: (366, 4)\n",
      "y的分布: 223.22    2\n",
      "249.78    2\n",
      "297.00    2\n",
      "209.44    1\n",
      "235.62    1\n",
      "202.91    1\n",
      "375.22    1\n",
      "403.38    1\n",
      "426.31    1\n",
      "432.62    1\n",
      "214.73    1\n",
      "413.20    1\n",
      "318.05    1\n",
      "252.18    1\n",
      "225.04    1\n",
      "242.10    1\n",
      "224.42    1\n",
      "476.85    1\n",
      "218.03    1\n",
      "226.10    1\n",
      "273.66    1\n",
      "274.03    1\n",
      "460.89    1\n",
      "296.23    1\n",
      "267.47    1\n",
      "496.13    1\n",
      "446.20    1\n",
      "441.59    1\n",
      "245.25    1\n",
      "316.25    1\n",
      "         ..\n",
      "219.92    1\n",
      "244.23    1\n",
      "485.07    1\n",
      "457.90    1\n",
      "259.16    1\n",
      "422.95    1\n",
      "247.80    1\n",
      "381.38    1\n",
      "237.20    1\n",
      "419.35    1\n",
      "509.03    1\n",
      "278.02    1\n",
      "229.65    1\n",
      "211.85    1\n",
      "430.33    1\n",
      "221.07    1\n",
      "221.42    1\n",
      "282.32    1\n",
      "208.62    1\n",
      "208.89    1\n",
      "285.40    1\n",
      "441.54    1\n",
      "440.76    1\n",
      "266.77    1\n",
      "213.24    1\n",
      "233.23    1\n",
      "373.49    1\n",
      "274.61    1\n",
      "227.31    1\n",
      "250.75    1\n",
      "Name: 燃气用量, Length: 363, dtype: int64\n"
     ]
    }
   ],
   "source": [
    "y=data['燃气用量']\n",
    "X=data.drop('燃气用量',axis=1)\n",
    "print('X.shape:',X.shape)\n",
    "print('y的分布:',y.value_counts())"
   ]
  },
  {
   "cell_type": "code",
   "execution_count": 6,
   "metadata": {},
   "outputs": [
    {
     "name": "stdout",
     "output_type": "stream",
     "text": [
      "(256, 4)\n",
      "(110, 4)\n"
     ]
    }
   ],
   "source": [
    "random_state = 1118\n",
    "X_train,X_test,y_train,y_test = train_test_split(X,y,test_size=0.3,random_state=1118)\n",
    "print(X_train.shape)\n",
    "print(X_test.shape)\n"
   ]
  },
  {
   "cell_type": "code",
   "execution_count": 7,
   "metadata": {},
   "outputs": [
    {
     "name": "stdout",
     "output_type": "stream",
     "text": [
      "训练集：897.6117\n",
      "测试集：6690.9045\n"
     ]
    }
   ],
   "source": [
    "regressor = RandomForestRegressor(n_estimators=100,random_state=0)\n",
    "regressor.fit(X_train,y_train)\n",
    "y_train_pred = regressor.predict(X_train)\n",
    "y_test_pred = regressor.predict(X_test)\n",
    "\n",
    "## rf模型评估\n",
    "print('训练集：{:.4f}'.format( mean_squared_error (y_train, y_train_pred)))\n",
    "print('测试集：{:.4f}'.format( mean_squared_error (y_test, y_test_pred)))\n",
    "\n"
   ]
  }
 ],
 "metadata": {
  "kernelspec": {
   "display_name": "Python 3",
   "language": "python",
   "name": "python3"
  },
  "language_info": {
   "codemirror_mode": {
    "name": "ipython",
    "version": 3
   },
   "file_extension": ".py",
   "mimetype": "text/x-python",
   "name": "python",
   "nbconvert_exporter": "python",
   "pygments_lexer": "ipython3",
   "version": "3.7.2"
  }
 },
 "nbformat": 4,
 "nbformat_minor": 2
}

{
 "cells": [
  {
   "cell_type": "markdown",
   "metadata": {
    "collapsed": true
   },
   "source": [
    "# FP-growth算法"
   ]
  },
  {
   "cell_type": "markdown",
   "metadata": {},
   "source": [
    "**FP-growth的一般流程：**\n",
    "1. 收集数据：使用任意方法。\n",
    "2. 准备数据：由于存储的是集合，所以需要离散数据。如果要处理连续数据，需要将它们量化为离散值。\n",
    "3. 分析数据：使用任意方法。\n",
    "4. 训练算法：构建一个FP树，并对树进行挖据。\n",
    "5. 测试算法：没有测试过程。\n",
    "6. 使用算法：可用于识别经常出现的元素项，从而用于制定决策、推荐元素或进行预测等应用中。"
   ]
  },
  {
   "cell_type": "markdown",
   "metadata": {},
   "source": [
    "## 创建FP树的数据结构"
   ]
  },
  {
   "cell_type": "code",
   "execution_count": 1,
   "metadata": {},
   "outputs": [],
   "source": [
    "class treeNode:\n",
    "    # nameValue: 节点名字，numOccur: 出现次数，parentNode：父节点\n",
    "    def __init__(self, nameValue, numOccur, parentNode):\n",
    "        # 节点名字\n",
    "        self.name = nameValue\n",
    "        # 计数值\n",
    "        self.count = numOccur\n",
    "        # 链接相似的元素项\n",
    "        self.nodeLink = None\n",
    "        # 指向当前节点的父节点\n",
    "        self.parent = parentNode\n",
    "        # 存放节点的子节点\n",
    "        self.children = {} \n",
    "    \n",
    "    # 对count增加给定值\n",
    "    def inc(self, numOccur):\n",
    "        self.count += numOccur\n",
    "        \n",
    "    # 将树以文本形式展示\n",
    "    def disp(self, ind=1):\n",
    "        print('  '*ind, self.name, ' ', self.count)\n",
    "        for child in self.children.values():\n",
    "            child.disp(ind+1)"
   ]
  },
  {
   "cell_type": "code",
   "execution_count": 2,
   "metadata": {},
   "outputs": [],
   "source": [
    "# 创建树中的一个单节点\n",
    "rootNode = treeNode('pyramid', 9, None)"
   ]
  },
  {
   "cell_type": "code",
   "execution_count": 3,
   "metadata": {},
   "outputs": [
    {
     "name": "stdout",
     "output_type": "stream",
     "text": [
      "   pyramid   9\n",
      "     eye   13\n"
     ]
    }
   ],
   "source": [
    "# 为其增加一个子节点\n",
    "rootNode.children['eye'] = treeNode('eye', 13, None)\n",
    "rootNode.disp()"
   ]
  },
  {
   "cell_type": "code",
   "execution_count": 4,
   "metadata": {},
   "outputs": [
    {
     "name": "stdout",
     "output_type": "stream",
     "text": [
      "   pyramid   9\n",
      "     eye   13\n",
      "     phoenix   3\n"
     ]
    }
   ],
   "source": [
    "# 再添加一个节点\n",
    "rootNode.children['phoenix'] = treeNode('phoenix', 3, None)\n",
    "rootNode.disp()"
   ]
  },
  {
   "cell_type": "markdown",
   "metadata": {},
   "source": [
    "## FP树构建函数"
   ]
  },
  {
   "cell_type": "code",
   "execution_count": 5,
   "metadata": {},
   "outputs": [],
   "source": [
    "# 构建FP树主函数\n",
    "# dataSet：字典，其中项集为字典的键，值为频率，minSup：最小支持度\n",
    "def createTree(dataSet, minSup=1):\n",
    "    # 头指针表\n",
    "    headerTable = {}\n",
    "    # 第一次遍历：统计每个元素项出现的频度\n",
    "    for trans in dataSet:\n",
    "        for item in trans:\n",
    "            headerTable[item] = headerTable.get(item, 0) + dataSet[trans]\n",
    "    headerTableCopy = headerTable.copy()\n",
    "    # 扫描头指针表，删掉出现次数小于最小支持度的项\n",
    "    for k in headerTableCopy.keys():\n",
    "        if headerTable[k] < minSup: \n",
    "            del(headerTable[k])\n",
    "    # 得到频繁项集\n",
    "    freqItemSet = set(headerTable.keys())\n",
    "    # 如果所有项都不频繁，就不需要进行下一步处理\n",
    "    if len(freqItemSet) == 0: return None, None\n",
    "    # 对头指针表进行扩展，以便可以保存计数值以及指向每种类型第一个元素项的指针\n",
    "    for k in headerTable:\n",
    "        headerTable[k] = [headerTable[k], None] \n",
    "    # 先创建仅包含空集合的根节点\n",
    "    retTree = treeNode('Null Set', 1, None)\n",
    "    # 第二次遍历：构建树\n",
    "    for tranSet, count in dataSet.items():\n",
    "        localD = {}\n",
    "        # 根据全局频率对每个事务中的元素进行排序\n",
    "        for item in tranSet:\n",
    "            # 只考虑频繁项集\n",
    "            if item in freqItemSet:\n",
    "                localD[item] = headerTable[item][0]\n",
    "        if len(localD) > 0:\n",
    "            orderedItems = [v[0] for v in sorted(localD.items(), key=lambda p: p[1], reverse=True)]\n",
    "            # 使用排序后的频率项集对树进行填充\n",
    "            updateTree(orderedItems, retTree, headerTable, count)\n",
    "    return retTree, headerTable\n",
    "\n",
    "# 填充树函数\n",
    "# items: 一个项集，inTree: FP树，headerTable: 头指针表，count：频率数\n",
    "def updateTree(items, inTree, headerTable, count):\n",
    "    # 事务中的第一个元素项是否作为子节点存在\n",
    "    if items[0] in inTree.children:\n",
    "        # 更新该元素项的计数\n",
    "        inTree.children[items[0]].inc(count)\n",
    "    else:\n",
    "        # 如果不存在，创建一个新的treeNode并将其作为一个子节点添加的树中\n",
    "        inTree.children[items[0]] = treeNode(items[0], count, inTree)\n",
    "        # 更新头指针表\n",
    "        if headerTable[items[0]][1] == None:\n",
    "            headerTable[items[0]][1] = inTree.children[items[0]]\n",
    "        else:\n",
    "            updateHeader(headerTable[items[0]][1], inTree.children[items[0]])\n",
    "    if len(items) > 1:\n",
    "        # 迭代，每次调用都去掉列表中第一个元素\n",
    "        updateTree(items[1::], inTree.children[items[0]], headerTable, count)\n",
    "\n",
    "# 更新头指针表\n",
    "def updateHeader(nodeToTest, targetNode):\n",
    "    # 从头指针表的nodeLink开始，一直沿着nodeLink直到到达链表末尾\n",
    "    while (nodeToTest.nodeLink != None):\n",
    "        nodeToTest = nodeToTest.nodeLink\n",
    "    # 最后再添加最后一个节点\n",
    "    nodeToTest.nodeLink = targetNode"
   ]
  },
  {
   "cell_type": "code",
   "execution_count": 6,
   "metadata": {},
   "outputs": [],
   "source": [
    "# 简单数据集及数据包装器\n",
    "def loadSimpDat():\n",
    "    simpDat = [['r', 'z', 'h', 'j', 'p'],\n",
    "               ['z', 'y', 'x', 'w', 'v', 'u', 't', 's'],\n",
    "               ['z'],\n",
    "               ['r', 'x', 'n', 'o', 's'],\n",
    "               ['y', 'r', 'x', 'z', 'q', 't', 'p'],\n",
    "               ['y', 'z', 'x', 'e', 'q', 's', 't', 'm']]\n",
    "    return simpDat\n",
    "\n",
    "def createInitSet(dataSet):\n",
    "    retDict = {}\n",
    "    for trans in dataSet:\n",
    "        retDict[frozenset(trans)] = 1\n",
    "    return retDict"
   ]
  },
  {
   "cell_type": "code",
   "execution_count": 7,
   "metadata": {},
   "outputs": [
    {
     "data": {
      "text/plain": [
       "[['r', 'z', 'h', 'j', 'p'],\n",
       " ['z', 'y', 'x', 'w', 'v', 'u', 't', 's'],\n",
       " ['z'],\n",
       " ['r', 'x', 'n', 'o', 's'],\n",
       " ['y', 'r', 'x', 'z', 'q', 't', 'p'],\n",
       " ['y', 'z', 'x', 'e', 'q', 's', 't', 'm']]"
      ]
     },
     "execution_count": 7,
     "metadata": {},
     "output_type": "execute_result"
    }
   ],
   "source": [
    "simpDat = loadSimpDat()\n",
    "simpDat"
   ]
  },
  {
   "cell_type": "code",
   "execution_count": 8,
   "metadata": {},
   "outputs": [
    {
     "data": {
      "text/plain": [
       "{frozenset({'h', 'j', 'p', 'r', 'z'}): 1,\n",
       " frozenset({'s', 't', 'u', 'v', 'w', 'x', 'y', 'z'}): 1,\n",
       " frozenset({'z'}): 1,\n",
       " frozenset({'n', 'o', 'r', 's', 'x'}): 1,\n",
       " frozenset({'p', 'q', 'r', 't', 'x', 'y', 'z'}): 1,\n",
       " frozenset({'e', 'm', 'q', 's', 't', 'x', 'y', 'z'}): 1}"
      ]
     },
     "execution_count": 8,
     "metadata": {},
     "output_type": "execute_result"
    }
   ],
   "source": [
    "initSet = createInitSet(simpDat)\n",
    "initSet"
   ]
  },
  {
   "cell_type": "code",
   "execution_count": 9,
   "metadata": {},
   "outputs": [],
   "source": [
    "myFPtree, myHeaderTab = createTree(initSet, 3)"
   ]
  },
  {
   "cell_type": "code",
   "execution_count": 10,
   "metadata": {},
   "outputs": [
    {
     "name": "stdout",
     "output_type": "stream",
     "text": [
      "   Null Set   1\n",
      "     z   5\n",
      "       r   1\n",
      "       x   3\n",
      "         s   2\n",
      "           y   2\n",
      "             t   2\n",
      "         r   1\n",
      "           y   1\n",
      "             t   1\n",
      "     x   1\n",
      "       s   1\n",
      "         r   1\n"
     ]
    }
   ],
   "source": [
    "myFPtree.disp()"
   ]
  },
  {
   "cell_type": "code",
   "execution_count": 11,
   "metadata": {},
   "outputs": [
    {
     "data": {
      "text/plain": [
       "{'z': [5, <__main__.treeNode at 0x153f7208>],\n",
       " 'r': [3, <__main__.treeNode at 0x153f7358>],\n",
       " 'x': [4, <__main__.treeNode at 0x153f7518>],\n",
       " 's': [3, <__main__.treeNode at 0x153f7668>],\n",
       " 'y': [3, <__main__.treeNode at 0x153f76a0>],\n",
       " 't': [3, <__main__.treeNode at 0x153f70b8>]}"
      ]
     },
     "execution_count": 11,
     "metadata": {},
     "output_type": "execute_result"
    }
   ],
   "source": [
    "myHeaderTab"
   ]
  },
  {
   "cell_type": "code",
   "execution_count": 12,
   "metadata": {},
   "outputs": [
    {
     "name": "stdout",
     "output_type": "stream",
     "text": [
      "   x   1\n",
      "     s   1\n",
      "       r   1\n"
     ]
    }
   ],
   "source": [
    "myHeaderTab['x'][1].nodeLink.disp()"
   ]
  },
  {
   "cell_type": "markdown",
   "metadata": {},
   "source": [
    "## 从一课FP树中挖掘频繁项集"
   ]
  },
  {
   "cell_type": "markdown",
   "metadata": {},
   "source": [
    "从FP树中抽取频繁项集的三个基本步骤如下：\n",
    "1. 从FP树中获得条件模式基；\n",
    "2. 利用条件模式基，构建一个条件FP树；\n",
    "3. 迭代重复步骤1和步骤2，直到树包含一个元素项为止。"
   ]
  },
  {
   "cell_type": "markdown",
   "metadata": {},
   "source": [
    "### 抽取条件模式基"
   ]
  },
  {
   "cell_type": "code",
   "execution_count": 13,
   "metadata": {},
   "outputs": [],
   "source": [
    "# 构建前缀路径，迭代上溯整棵树\n",
    "def ascendTree(leafNode, prefixPath): \n",
    "    if leafNode.parent != None:\n",
    "        # 加入前缀路径\n",
    "        prefixPath.append(leafNode.name)\n",
    "        # 继续上溯迭代\n",
    "        ascendTree(leafNode.parent, prefixPath)\n",
    "\n",
    "# 前缀路径\n",
    "# basePat: 条件模式基，treeNode: 树节点-头指针表\n",
    "def findPrefixPath(basePat, treeNode): \n",
    "    condPats = {}\n",
    "    while treeNode != None:\n",
    "        prefixPath = []\n",
    "        # 得到前缀路径\n",
    "        ascendTree(treeNode, prefixPath)\n",
    "        if len(prefixPath) > 1:\n",
    "            # 去掉所查元素，构建条件模式基\n",
    "            condPats[frozenset(prefixPath[1:])] = treeNode.count\n",
    "        # 遍历链表中的下一个节点\n",
    "        treeNode = treeNode.nodeLink\n",
    "    return condPats"
   ]
  },
  {
   "cell_type": "code",
   "execution_count": 14,
   "metadata": {},
   "outputs": [
    {
     "data": {
      "text/plain": [
       "{frozenset({'z'}): 3}"
      ]
     },
     "execution_count": 14,
     "metadata": {},
     "output_type": "execute_result"
    }
   ],
   "source": [
    "findPrefixPath('x', myHeaderTab['x'][1])"
   ]
  },
  {
   "cell_type": "code",
   "execution_count": 15,
   "metadata": {},
   "outputs": [
    {
     "data": {
      "text/plain": [
       "{}"
      ]
     },
     "execution_count": 15,
     "metadata": {},
     "output_type": "execute_result"
    }
   ],
   "source": [
    "findPrefixPath('z', myHeaderTab['z'][1])"
   ]
  },
  {
   "cell_type": "code",
   "execution_count": 16,
   "metadata": {},
   "outputs": [
    {
     "data": {
      "text/plain": [
       "{frozenset({'z'}): 1, frozenset({'s', 'x'}): 1, frozenset({'x', 'z'}): 1}"
      ]
     },
     "execution_count": 16,
     "metadata": {},
     "output_type": "execute_result"
    }
   ],
   "source": [
    "findPrefixPath('r', myHeaderTab['r'][1])"
   ]
  },
  {
   "cell_type": "markdown",
   "metadata": {},
   "source": [
    "### 创建条件FP树"
   ]
  },
  {
   "cell_type": "code",
   "execution_count": 17,
   "metadata": {},
   "outputs": [],
   "source": [
    "# 递归查找频繁项集的mineTree函数\n",
    "def mineTree(inTree, headerTable, minSup, preFix, freqItemList):\n",
    "    # 对头指针表中的元素项按照出现频率排序\n",
    "    bigL = [v[0] for v in sorted(headerTable.items(), key=lambda p: p[0])]\n",
    "    # 从头指针表的底端开始\n",
    "    for basePat in bigL:\n",
    "        newFreqSet = preFix.copy()\n",
    "        newFreqSet.add(basePat)\n",
    "        freqItemList.append(newFreqSet)\n",
    "        # 创建条件基\n",
    "        condPattBases = findPrefixPath(basePat, headerTable[basePat][1])\n",
    "        # 从条件模式基来构建条件FP树\n",
    "        myCondTree, myHead = createTree(condPattBases, minSup)\n",
    "        # 如果树中还有元素项，递归调用mineTree()函数\n",
    "        if myHead != None:\n",
    "            print('conditional tree for: ',newFreqSet)\n",
    "            myCondTree.disp(1)            \n",
    "            mineTree(myCondTree, myHead, minSup, newFreqSet, freqItemList)"
   ]
  },
  {
   "cell_type": "code",
   "execution_count": 18,
   "metadata": {},
   "outputs": [],
   "source": [
    "# 建立一个空列表来存储所有的频繁项集\n",
    "freqItems = []"
   ]
  },
  {
   "cell_type": "code",
   "execution_count": 19,
   "metadata": {},
   "outputs": [
    {
     "name": "stdout",
     "output_type": "stream",
     "text": [
      "conditional tree for:  {'s'}\n",
      "   Null Set   1\n",
      "     x   3\n",
      "conditional tree for:  {'t'}\n",
      "   Null Set   1\n",
      "     z   3\n",
      "       x   3\n",
      "         y   3\n",
      "conditional tree for:  {'x', 't'}\n",
      "   Null Set   1\n",
      "     z   3\n",
      "conditional tree for:  {'t', 'y'}\n",
      "   Null Set   1\n",
      "     z   3\n",
      "       x   3\n",
      "conditional tree for:  {'x', 't', 'y'}\n",
      "   Null Set   1\n",
      "     z   3\n",
      "conditional tree for:  {'x'}\n",
      "   Null Set   1\n",
      "     z   3\n",
      "conditional tree for:  {'y'}\n",
      "   Null Set   1\n",
      "     z   3\n",
      "       x   3\n",
      "conditional tree for:  {'x', 'y'}\n",
      "   Null Set   1\n",
      "     z   3\n"
     ]
    }
   ],
   "source": [
    "mineTree(myFPtree, myHeaderTab, 3, set([]), freqItems)"
   ]
  },
  {
   "cell_type": "code",
   "execution_count": 20,
   "metadata": {},
   "outputs": [
    {
     "data": {
      "text/plain": [
       "[{'r'},\n",
       " {'s'},\n",
       " {'s', 'x'},\n",
       " {'t'},\n",
       " {'t', 'x'},\n",
       " {'t', 'x', 'z'},\n",
       " {'t', 'y'},\n",
       " {'t', 'x', 'y'},\n",
       " {'t', 'x', 'y', 'z'},\n",
       " {'t', 'y', 'z'},\n",
       " {'t', 'z'},\n",
       " {'x'},\n",
       " {'x', 'z'},\n",
       " {'y'},\n",
       " {'x', 'y'},\n",
       " {'x', 'y', 'z'},\n",
       " {'y', 'z'},\n",
       " {'z'}]"
      ]
     },
     "execution_count": 20,
     "metadata": {},
     "output_type": "execute_result"
    }
   ],
   "source": [
    "freqItems"
   ]
  }
 ],
 "metadata": {
  "kernelspec": {
   "display_name": "Python 3",
   "language": "python",
   "name": "python3"
  },
  "language_info": {
   "codemirror_mode": {
    "name": "ipython",
    "version": 3
   },
   "file_extension": ".py",
   "mimetype": "text/x-python",
   "name": "python",
   "nbconvert_exporter": "python",
   "pygments_lexer": "ipython3",
   "version": "3.7.2"
  },
  "toc": {
   "base_numbering": 1,
   "nav_menu": {},
   "number_sections": false,
   "sideBar": true,
   "skip_h1_title": false,
   "title_cell": "Table of Contents",
   "title_sidebar": "Contents",
   "toc_cell": false,
   "toc_position": {},
   "toc_section_display": true,
   "toc_window_display": false
  }
 },
 "nbformat": 4,
 "nbformat_minor": 1
}
